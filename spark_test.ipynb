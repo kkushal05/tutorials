{
  "nbformat": 4,
  "nbformat_minor": 0,
  "metadata": {
    "colab": {
      "name": "spark-test.ipynb",
      "provenance": [],
      "collapsed_sections": [],
      "authorship_tag": "ABX9TyM9V0OZZwWWJVxPfT7tsFDO",
      "include_colab_link": true
    },
    "kernelspec": {
      "name": "python3",
      "display_name": "Python 3"
    },
    "language_info": {
      "name": "python"
    },
    "gpuClass": "standard"
  },
  "cells": [
    {
      "cell_type": "markdown",
      "metadata": {
        "id": "view-in-github",
        "colab_type": "text"
      },
      "source": [
        "<a href=\"https://colab.research.google.com/github/kkushal05/tutorials/blob/main/spark_test.ipynb\" target=\"_parent\"><img src=\"https://colab.research.google.com/assets/colab-badge.svg\" alt=\"Open In Colab\"/></a>"
      ]
    },
    {
      "cell_type": "code",
      "source": [
        "%%bash\n",
        "%%bash\n",
        "sudo apt install -y mongodb > log\n",
        "service mongodb start\n",
        "mongo --eval 'db.runCommand({ connectionStatus: 1 })'"
      ],
      "metadata": {
        "id": "Hc0wsSwPbPsJ"
      },
      "execution_count": null,
      "outputs": []
    },
    {
      "cell_type": "code",
      "source": [
        "%%bash\n",
        "\n",
        "ps -ef | grep mongo"
      ],
      "metadata": {
        "id": "92eanyq83_92"
      },
      "execution_count": null,
      "outputs": []
    },
    {
      "cell_type": "code",
      "source": [
        "from pymongo import MongoClient\n",
        "client = MongoClient()\n",
        "client.list_database_names() "
      ],
      "metadata": {
        "id": "1pOmvssI4FCE"
      },
      "execution_count": null,
      "outputs": []
    },
    {
      "cell_type": "code",
      "source": [
        "!pip install pandas\n",
        "!pip install pyspark\n",
        "!pip install pymongo\n",
        "!pip install sodapy\n",
        "!pip install progressbar"
      ],
      "metadata": {
        "id": "FTS218TP4kK0"
      },
      "execution_count": 16,
      "outputs": []
    },
    {
      "cell_type": "code",
      "source": [
        "import pandas as pd\n",
        "from sodapy import Socrata\n",
        "import pymongo\n",
        "from pymongo import MongoClient\n",
        "import pyspark\n",
        "from pyspark.sql import SparkSession\n",
        "import progressbar\n",
        "from pyspark.sql import Row\n",
        "import os\n",
        "\n",
        "client = Socrata(\"data.cityofnewyork.us\", None)\n",
        "start = 0\n",
        "chunk_size = 50\n",
        "results = []\n",
        "spark = SparkSession.builder.appName('sparkdf').getOrCreate()\n",
        "\n",
        "spark = SparkSession \\\n",
        "    .builder \\\n",
        "    .appName(\"mongodbtest1\") \\\n",
        "    .master('local')\\\n",
        "    .config(\"spark.mongodb.output.uri\", \"mongodb:/127.0.0.1:27017/raw_data\") \\\n",
        "    .config('spark.jars.packages', 'org.mongodb.spark:mongo-spark-connector_2.12:3.0.1') \\\n",
        "    .getOrCreate()\n",
        "\n",
        "mongo_client = MongoClient()\n",
        "db = mongo_client['raw_data']"
      ],
      "metadata": {
        "colab": {
          "base_uri": "https://localhost:8080/"
        },
        "id": "PMWIRiDWxLtz",
        "outputId": "a8451da6-d7bd-474a-8c77-77c0501898a0"
      },
      "execution_count": 17,
      "outputs": [
        {
          "output_type": "stream",
          "name": "stderr",
          "text": [
            "WARNING:root:Requests made without an app_token will be subject to strict throttling limits.\n"
          ]
        }
      ]
    },
    {
      "cell_type": "code",
      "source": [
        "from dateutil import parser\n",
        "\n",
        "def load_data_for_nypd_call_for_service():\n",
        "  start = 0\n",
        "  chunk_size = 5000\n",
        "  data_id = \"n2zq-pubd\";\n",
        "  cols = \"NYPD_PCT_CD, BORO_NM, TYP_DESC, ARRIVD_TS, ADD_TS\"\n",
        "  db.call_for_service.drop()\n",
        "  record_count = client.get(data_id, where = \"ARRIVD_TS between '2022-02-01T00:00:00' and '2022-03-01T00:00:00'\" , select=\"COUNT(*)\")\n",
        "  print(record_count)\n",
        "  print(\"Record count in  DB : \" + str(db.call_for_service.count_documents({})))\n",
        "\n",
        "  while True: \n",
        "    results = client.get(data_id, select=cols, where = \"ARRIVD_TS between '2022-02-01T00:00:00' and '2022-03-01T00:00:00'\", offset=start, limit=chunk_size)\n",
        "    dataframe = spark.createDataFrame(results)\n",
        "    dataframe = dataframe.na.drop()\n",
        "    for item in dataframe.collect():\n",
        "      item = item.asDict()\n",
        "      add_ts = parser.parse(item['ADD_TS'])\n",
        "      arrivd_ts = parser.parse(item['ARRIVD_TS'])\n",
        "      item['response_time'] = (arrivd_ts - add_ts).total_seconds()\n",
        "      db.call_for_service.insert_one(item)\n",
        "    print(\"Record count in  DB : \" + str(db.call_for_service.count_documents({})))\n",
        "    start = start + chunk_size\n",
        "    #if start > int(record_count[0]['COUNT']):\n",
        "    if start > 10000:\n",
        "        break\n",
        "\n",
        "def store_precinct_average_for_nypd():\n",
        "    records = db.call_for_service.aggregate([{'$group':{'_id':'$NYPD_PCT_CD','average_nypd':{'$avg':'$response_time'}}},{'$project':{'_id':0,'precinct':'$_id','average_nypd':{'$trunc':['$average_nypd']}}}])\n",
        "    for item in records:\n",
        "      db.precinct_averages.update_one({'precinct': item['precinct']},{'$set' : {'average_nypd' : item['average_nypd']}}, upsert=True)\n",
        "    print(db.precinct_averages.count_documents({}))\n",
        "\n",
        "load_data_for_nypd_call_for_service()\n",
        "store_precinct_average_for_nypd()\n"
      ],
      "metadata": {
        "id": "BW99ahSn4bx8"
      },
      "execution_count": null,
      "outputs": []
    },
    {
      "cell_type": "code",
      "source": [
        " #----LOAD DATA FOR EMS BETWEEN A SPECIFIC DATE RANGE-------\n",
        "import requests\n",
        "import json\n",
        "from pyspark.sql import functions\n",
        "\n",
        "def load_ems_data():\n",
        "  offset = 0\n",
        "  limit = 5000\n",
        "  data_id = \"76xm-jjuj\";\n",
        "  cols = \"INCIDENT_DATETIME, BOROUGH, POLICEPRECINCT, FIRST_ON_SCENE_DATETIME, ZIPCODE, incident_response_seconds_qy\"\n",
        "  where_clause = \"$where=INCIDENT_DATETIME between '2022-01-01T00:00:00' and '2022-03-01T00:00:00'\";\n",
        "  response = requests.get(\"https://data.cityofnewyork.us/resource/76xm-jjuj.json?$select=COUNT(*)&\"+where_clause)\n",
        "  res_arr = json.loads(response.text)\n",
        "  record_count = res_arr[0]['COUNT']\n",
        "  db.ems.drop()\n",
        "  print(record_count)\n",
        "  while True:\n",
        "      url = \"https://data.cityofnewyork.us/resource/76xm-jjuj.json?\" + where_clause + \"&$limit=\"+str(limit)+\"&$offset=\"+str(offset);\n",
        "      results = requests.get(url)\n",
        "      dataframe = spark.createDataFrame(json.loads(results.text))\n",
        "      dataframe = dataframe.na.drop()\n",
        "      for item in dataframe.collect():\n",
        "        item = item.asDict()\n",
        "        item['incident_response_seconds_qy'] = int(item['incident_response_seconds_qy'])\n",
        "        db.ems.insert_one(item)\n",
        "      offset = offset + limit\n",
        "      if offset > 10000:\n",
        "          break\n",
        "\n",
        "def store_precinct_average_for_ems():\n",
        "    records = db.ems.aggregate([{'$group':{'_id':'$policeprecinct','average_ems':{'$avg':'$incident_response_seconds_qy'}}},{'$project':{'_id':0,'precinct':'$_id','average_ems':{'$trunc':['$average_ems']}}}])\n",
        "    for item in records:\n",
        "      db.precinct_averages.update_one({'precinct': item['precinct']},{'$set' : {'average_ems' : item['average_ems']}}, upsert=True)\n",
        "    print(db.precinct_averages.count_documents({}))\n",
        "\n",
        "load_ems_data()\n",
        "store_precinct_average_for_ems()"
      ],
      "metadata": {
        "id": "-F-9hSocsVjj",
        "colab": {
          "base_uri": "https://localhost:8080/"
        },
        "outputId": "6f716490-b430-4afd-8235-e0cd0009bc52"
      },
      "execution_count": 28,
      "outputs": [
        {
          "output_type": "stream",
          "name": "stdout",
          "text": [
            "238503\n",
            "78\n"
          ]
        }
      ]
    },
    {
      "cell_type": "code",
      "source": [
        " #----LOAD DATA FOR FIRE DEPT BETWEEN A SPECIFIC DATE RANGE-------\n",
        "import requests\n",
        "\n",
        "def load_fire_dept_data():\n",
        "  offset = 0\n",
        "  limit = 5000\n",
        "\n",
        "  data_id = \"8m42-w767\";\n",
        "  cols = \"INCIDENT_DATETIME,INCIDENT_BOROUGH,POLICEPRECINCT,FIRST_ON_SCENE_DATETIME,INCIDENT_CLASSIFICATION,INCIDENT_RESPONSE_SECONDS_QY\"\n",
        "  record_count = client.get(data_id, where = \"INCIDENT_DATETIME between '2021-02-01T00:00:00' and '2022-03-01T00:00:00'\", select=\"COUNT(*)\")\n",
        "  print(record_count)\n",
        "  db.fire_dept.drop()\n",
        "\n",
        "  where_clause = \"$where=INCIDENT_DATETIME between '2021-01-01T00:00:00' and '2022-03-01T00:00:00'\";\n",
        "\n",
        "  while True: \n",
        "      url = \"https://data.cityofnewyork.us/resource/8m42-w767.csv?\" + where_clause + \"&$limit=\"+str(limit)+\"&$offset=\"+str(offset)+\"&$select=\"+cols;\n",
        "      results = requests.get(url);\n",
        "      csv_file = \"/tmp/\"+ data_id + \".csv\"\n",
        "      fh = open(csv_file, \"wb\")\n",
        "      fh.write(results.content)\n",
        "      fh.close()\n",
        "      dataframe = spark.read.option(\"header\", False).csv(csv_file)\n",
        "      dataframe = dataframe.na.drop()\n",
        "      header = dataframe.first()\n",
        "      rows = dataframe.count()\n",
        "      i=1\n",
        "      for item in dataframe.collect():\n",
        "        item = item.asDict()\n",
        "        if item['_c0'] == \"INCIDENT_DATETIME\":\n",
        "           continue\n",
        "        item['_c5'] = int(item['_c5'])\n",
        "        db.fire_dept.insert_one(item)\n",
        "      offset = offset + limit\n",
        "      if offset > 100:\n",
        "          break\n",
        "\n",
        "def store_precinct_average_for_fire():\n",
        "    records = db.fire_dept.aggregate([{'$group':{'_id':'$_c2','average_fire':{'$avg':'$_c5'}}},{'$project':{'_id':0,'precinct':'$_id','average_fire':{'$trunc':['$average_fire']}}}])\n",
        "    for item in records:\n",
        "      db.precinct_averages.update_one({'precinct': item['precinct']},{'$set' : {'average_fire' : item['average_fire'] }}, upsert=True)\n",
        "    print(db.precinct_averages.count_documents({}))\n",
        "\n",
        "load_fire_dept_data()\n",
        "store_precinct_average_for_fire()\n",
        "docs = db.precinct_averages.find()\n",
        "\n",
        "for doc in docs:\n",
        "  print(doc)"
      ],
      "metadata": {
        "id": "YV3mTE12sXWw",
        "colab": {
          "base_uri": "https://localhost:8080/"
        },
        "outputId": "36e8bcad-7502-4d5a-b58c-f54da96e2439"
      },
      "execution_count": 62,
      "outputs": [
        {
          "output_type": "stream",
          "name": "stdout",
          "text": [
            "[{'COUNT': '301031'}]\n",
            "79\n",
            "{'_id': ObjectId('62ed556e0e1badfa26615204'), 'precinct': None, 'average_nypd': 895.0, 'average_fire': None}\n",
            "{'_id': ObjectId('62ed55fc0e1badfa26618cba'), 'precinct': '123', 'average_nypd': 296.0, 'average_ems': 470.0, 'average_fire': 338.0}\n",
            "{'_id': ObjectId('62ed55fc0e1badfa26618cbc'), 'precinct': '78', 'average_nypd': 417.0, 'average_ems': 374.0, 'average_fire': 248.0}\n",
            "{'_id': ObjectId('62ed55fc0e1badfa26618cbe'), 'precinct': '105', 'average_nypd': 1274.0, 'average_ems': 478.0, 'average_fire': 358.0}\n",
            "{'_id': ObjectId('62ed55fc0e1badfa26618cc0'), 'precinct': '22', 'average_nypd': 180.0, 'average_ems': 671.0}\n",
            "{'_id': ObjectId('62ed55fc0e1badfa26618cc2'), 'precinct': '114', 'average_nypd': 821.0, 'average_ems': 452.0, 'average_fire': 395.0}\n",
            "{'_id': ObjectId('62ed55fc0e1badfa26618cc4'), 'precinct': '49', 'average_nypd': 903.0, 'average_ems': 464.0, 'average_fire': 447.0}\n",
            "{'_id': ObjectId('62ed55fc0e1badfa26618cc6'), 'precinct': '34', 'average_nypd': 1692.0, 'average_ems': 543.0, 'average_fire': 384.0}\n",
            "{'_id': ObjectId('62ed55fc0e1badfa26618cc8'), 'precinct': '17', 'average_nypd': 657.0, 'average_ems': 351.0, 'average_fire': 319.0}\n",
            "{'_id': ObjectId('62ed55fc0e1badfa26618cca'), 'precinct': '46', 'average_nypd': 1440.0, 'average_ems': 486.0, 'average_fire': 388.0}\n",
            "{'_id': ObjectId('62ed55fc0e1badfa26618ccc'), 'precinct': '28', 'average_nypd': 654.0, 'average_ems': 506.0, 'average_fire': 384.0}\n",
            "{'_id': ObjectId('62ed55fc0e1badfa26618cce'), 'precinct': '112', 'average_nypd': 556.0, 'average_ems': 446.0, 'average_fire': 565.0}\n",
            "{'_id': ObjectId('62ed55fc0e1badfa26618cd0'), 'precinct': '9', 'average_nypd': 980.0, 'average_ems': 408.0, 'average_fire': 317.0}\n",
            "{'_id': ObjectId('62ed55fc0e1badfa26618cd2'), 'precinct': '6', 'average_nypd': 503.0, 'average_ems': 349.0, 'average_fire': 260.0}\n",
            "{'_id': ObjectId('62ed55fc0e1badfa26618cd4'), 'precinct': '50', 'average_nypd': 642.0, 'average_ems': 423.0, 'average_fire': 405.0}\n",
            "{'_id': ObjectId('62ed55fc0e1badfa26618cd6'), 'precinct': '113', 'average_nypd': 2260.0, 'average_ems': 472.0, 'average_fire': 344.0}\n",
            "{'_id': ObjectId('62ed55fc0e1badfa26618cd8'), 'precinct': '18', 'average_nypd': 928.0, 'average_ems': 400.0, 'average_fire': 281.0}\n",
            "{'_id': ObjectId('62ed55fc0e1badfa26618cda'), 'precinct': '41', 'average_nypd': 743.0, 'average_ems': 535.0, 'average_fire': 369.0}\n",
            "{'_id': ObjectId('62ed55fc0e1badfa26618cdc'), 'precinct': '109', 'average_nypd': 1115.0, 'average_ems': 469.0, 'average_fire': 343.0}\n",
            "{'_id': ObjectId('62ed55fc0e1badfa26618cde'), 'precinct': '43', 'average_nypd': 1182.0, 'average_ems': 512.0, 'average_fire': 420.0}\n",
            "{'_id': ObjectId('62ed55fc0e1badfa26618ce0'), 'precinct': '10', 'average_nypd': 405.0, 'average_ems': 403.0, 'average_fire': 319.0}\n",
            "{'_id': ObjectId('62ed55fc0e1badfa26618ce2'), 'precinct': '115', 'average_nypd': 982.0, 'average_ems': 478.0, 'average_fire': 347.0}\n",
            "{'_id': ObjectId('62ed55fc0e1badfa26618ce4'), 'precinct': '73', 'average_nypd': 871.0, 'average_ems': 503.0, 'average_fire': 281.0}\n",
            "{'_id': ObjectId('62ed55fc0e1badfa26618ce6'), 'precinct': '71', 'average_nypd': 1203.0, 'average_ems': 432.0, 'average_fire': 303.0}\n",
            "{'_id': ObjectId('62ed55fc0e1badfa26618ce8'), 'precinct': '26', 'average_nypd': 279.0, 'average_ems': 544.0, 'average_fire': 249.0}\n",
            "{'_id': ObjectId('62ed55fc0e1badfa26618cea'), 'precinct': '111', 'average_nypd': 385.0, 'average_ems': 559.0, 'average_fire': 375.0}\n",
            "{'_id': ObjectId('62ed55fc0e1badfa26618cec'), 'precinct': '110', 'average_nypd': 790.0, 'average_ems': 403.0, 'average_fire': 314.0}\n",
            "{'_id': ObjectId('62ed55fc0e1badfa26618cee'), 'precinct': '106', 'average_nypd': 748.0, 'average_ems': 517.0, 'average_fire': 287.0}\n",
            "{'_id': ObjectId('62ed55fc0e1badfa26618cf0'), 'precinct': '66', 'average_nypd': 989.0, 'average_ems': 404.0, 'average_fire': 301.0}\n",
            "{'_id': ObjectId('62ed55fc0e1badfa26618cf2'), 'precinct': '101', 'average_nypd': 510.0, 'average_ems': 437.0, 'average_fire': 285.0}\n",
            "{'_id': ObjectId('62ed55fc0e1badfa26618cf4'), 'precinct': '120', 'average_nypd': 582.0, 'average_ems': 470.0, 'average_fire': 287.0}\n",
            "{'_id': ObjectId('62ed55fc0e1badfa26618cf6'), 'precinct': '45', 'average_nypd': 854.0, 'average_ems': 492.0, 'average_fire': 431.0}\n",
            "{'_id': ObjectId('62ed55fc0e1badfa26618cf8'), 'precinct': '88', 'average_nypd': 460.0, 'average_ems': 424.0, 'average_fire': 271.0}\n",
            "{'_id': ObjectId('62ed55fc0e1badfa26618cfa'), 'precinct': '62', 'average_nypd': 415.0, 'average_ems': 478.0, 'average_fire': 333.0}\n",
            "{'_id': ObjectId('62ed55fc0e1badfa26618cfc'), 'precinct': '19', 'average_nypd': 978.0, 'average_ems': 429.0, 'average_fire': 393.0}\n",
            "{'_id': ObjectId('62ed55fc0e1badfa26618cfe'), 'precinct': '47', 'average_nypd': 1438.0, 'average_ems': 500.0, 'average_fire': 369.0}\n",
            "{'_id': ObjectId('62ed55fc0e1badfa26618d00'), 'precinct': '32', 'average_nypd': 895.0, 'average_ems': 542.0, 'average_fire': 379.0}\n",
            "{'_id': ObjectId('62ed55fc0e1badfa26618d02'), 'precinct': '100', 'average_nypd': 223.0, 'average_ems': 416.0, 'average_fire': 280.0}\n",
            "{'_id': ObjectId('62ed55fc0e1badfa26618d04'), 'precinct': '67', 'average_nypd': 1807.0, 'average_ems': 481.0, 'average_fire': 276.0}\n",
            "{'_id': ObjectId('62ed55fc0e1badfa26618d06'), 'precinct': '83', 'average_nypd': 738.0, 'average_ems': 473.0, 'average_fire': 234.0}\n",
            "{'_id': ObjectId('62ed55fc0e1badfa26618d08'), 'precinct': '61', 'average_nypd': 925.0, 'average_ems': 424.0, 'average_fire': 313.0}\n",
            "{'_id': ObjectId('62ed55fc0e1badfa26618d0a'), 'precinct': '69', 'average_nypd': 812.0, 'average_ems': 497.0, 'average_fire': 345.0}\n",
            "{'_id': ObjectId('62ed55fc0e1badfa26618d0c'), 'precinct': '81', 'average_nypd': 582.0, 'average_ems': 487.0, 'average_fire': 215.0}\n",
            "{'_id': ObjectId('62ed55fc0e1badfa26618d0e'), 'precinct': '30', 'average_nypd': 431.0, 'average_ems': 631.0, 'average_fire': 345.0}\n",
            "{'_id': ObjectId('62ed55fc0e1badfa26618d10'), 'precinct': '1', 'average_nypd': 626.0, 'average_ems': 402.0, 'average_fire': 285.0}\n",
            "{'_id': ObjectId('62ed55fc0e1badfa26618d12'), 'precinct': '52', 'average_nypd': 778.0, 'average_ems': 472.0, 'average_fire': 415.0}\n",
            "{'_id': ObjectId('62ed55fc0e1badfa26618d14'), 'precinct': '79', 'average_nypd': 674.0, 'average_ems': 491.0, 'average_fire': 253.0}\n",
            "{'_id': ObjectId('62ed55fc0e1badfa26618d16'), 'precinct': '103', 'average_nypd': 583.0, 'average_ems': 453.0, 'average_fire': 298.0}\n",
            "{'_id': ObjectId('62ed55fc0e1badfa26618d18'), 'precinct': '42', 'average_nypd': 1174.0, 'average_ems': 511.0, 'average_fire': 364.0}\n",
            "{'_id': ObjectId('62ed55fc0e1badfa26618d1a'), 'precinct': '121', 'average_nypd': 753.0, 'average_ems': 527.0, 'average_fire': 316.0}\n",
            "{'_id': ObjectId('62ed55fc0e1badfa26618d1c'), 'precinct': '24', 'average_nypd': 196.0, 'average_ems': 491.0, 'average_fire': 439.0}\n",
            "{'_id': ObjectId('62ed55fc0e1badfa26618d1e'), 'precinct': '72', 'average_nypd': 709.0, 'average_ems': 393.0, 'average_fire': 289.0}\n",
            "{'_id': ObjectId('62ed55fc0e1badfa26618d20'), 'precinct': '70', 'average_nypd': 2966.0, 'average_ems': 461.0, 'average_fire': 305.0}\n",
            "{'_id': ObjectId('62ed55fc0e1badfa26618d22'), 'precinct': '48', 'average_nypd': 1867.0, 'average_ems': 429.0, 'average_fire': 313.0}\n",
            "{'_id': ObjectId('62ed55fc0e1badfa26618d24'), 'precinct': '102', 'average_nypd': 1488.0, 'average_ems': 477.0, 'average_fire': 296.0}\n",
            "{'_id': ObjectId('62ed55fc0e1badfa26618d26'), 'precinct': '14', 'average_nypd': 477.0, 'average_ems': 410.0, 'average_fire': 326.0}\n",
            "{'_id': ObjectId('62ed55fc0e1badfa26618d28'), 'precinct': '108', 'average_nypd': 487.0, 'average_ems': 461.0, 'average_fire': 444.0}\n",
            "{'_id': ObjectId('62ed55fc0e1badfa26618d2a'), 'precinct': '63', 'average_nypd': 589.0, 'average_ems': 458.0, 'average_fire': 323.0}\n",
            "{'_id': ObjectId('62ed55fc0e1badfa26618d2c'), 'precinct': '107', 'average_nypd': 721.0, 'average_ems': 483.0, 'average_fire': 342.0}\n",
            "{'_id': ObjectId('62ed55fc0e1badfa26618d2e'), 'precinct': '5', 'average_nypd': 393.0, 'average_ems': 467.0, 'average_fire': 367.0}\n",
            "{'_id': ObjectId('62ed55fc0e1badfa26618d30'), 'precinct': '77', 'average_nypd': 1125.0, 'average_ems': 530.0, 'average_fire': 296.0}\n",
            "{'_id': ObjectId('62ed55fc0e1badfa26618d32'), 'precinct': '20', 'average_nypd': 408.0, 'average_ems': 420.0, 'average_fire': 398.0}\n",
            "{'_id': ObjectId('62ed55fc0e1badfa26618d34'), 'precinct': '76', 'average_nypd': 282.0, 'average_ems': 388.0, 'average_fire': 290.0}\n",
            "{'_id': ObjectId('62ed55fd0e1badfa26618d36'), 'precinct': '13', 'average_nypd': 476.0, 'average_ems': 406.0, 'average_fire': 396.0}\n",
            "{'_id': ObjectId('62ed55fd0e1badfa26618d38'), 'precinct': '84', 'average_nypd': 386.0, 'average_ems': 367.0, 'average_fire': 297.0}\n",
            "{'_id': ObjectId('62ed55fd0e1badfa26618d3a'), 'precinct': '60', 'average_nypd': 720.0, 'average_ems': 404.0, 'average_fire': 351.0}\n",
            "{'_id': ObjectId('62ed55fd0e1badfa26618d3c'), 'precinct': '75', 'average_nypd': 943.0, 'average_ems': 560.0, 'average_fire': 320.0}\n",
            "{'_id': ObjectId('62ed55fd0e1badfa26618d3e'), 'precinct': '104', 'average_nypd': 1495.0, 'average_ems': 416.0, 'average_fire': 316.0}\n",
            "{'_id': ObjectId('62ed55fd0e1badfa26618d40'), 'precinct': '40', 'average_nypd': 1557.0, 'average_ems': 476.0, 'average_fire': 317.0}\n",
            "{'_id': ObjectId('62ed55fd0e1badfa26618d42'), 'precinct': '122', 'average_nypd': 511.0, 'average_ems': 459.0, 'average_fire': 368.0}\n",
            "{'_id': ObjectId('62ed55fd0e1badfa26618d44'), 'precinct': '94', 'average_nypd': 295.0, 'average_ems': 478.0, 'average_fire': 303.0}\n",
            "{'_id': ObjectId('62ed55fd0e1badfa26618d46'), 'precinct': '68', 'average_nypd': 617.0, 'average_ems': 410.0, 'average_fire': 329.0}\n",
            "{'_id': ObjectId('62ed55fd0e1badfa26618d48'), 'precinct': '25', 'average_nypd': 518.0, 'average_ems': 562.0, 'average_fire': 367.0}\n",
            "{'_id': ObjectId('62ed55fd0e1badfa26618d4a'), 'precinct': '23', 'average_nypd': 874.0, 'average_ems': 539.0, 'average_fire': 376.0}\n",
            "{'_id': ObjectId('62ed55fd0e1badfa26618d4c'), 'precinct': '90', 'average_nypd': 277.0, 'average_ems': 467.0, 'average_fire': 265.0}\n",
            "{'_id': ObjectId('62ed55fd0e1badfa26618d4e'), 'precinct': '44', 'average_nypd': 2909.0, 'average_ems': 484.0, 'average_fire': 415.0}\n",
            "{'_id': ObjectId('62ed55fd0e1badfa26618d50'), 'precinct': '7', 'average_nypd': 532.0, 'average_ems': 430.0, 'average_fire': 349.0}\n",
            "{'_id': ObjectId('62ed55fd0e1badfa26618d52'), 'precinct': '33', 'average_nypd': 975.0, 'average_ems': 517.0, 'average_fire': 298.0}\n",
            "{'_id': ObjectId('62ed7c6d0e1badfa26633891'), 'precinct': 'POLICEPRECINCT', 'average_fire': None}\n"
          ]
        }
      ]
    },
    {
      "cell_type": "code",
      "source": [
        " #----LOAD RACIAL DATA -------\n",
        "import requests\n",
        "\n",
        "def load_race_data():\n",
        "  offset = 0\n",
        "  limit = 50\n",
        "  data_id = \"ik5a-xme5.csv\"\n",
        "  db.race_data.drop()\n",
        "\n",
        "  url = \"https://data.cityofnewyork.us/resource/\" + data_id;\n",
        "  results = requests.get(url);\n",
        "  csv_file = \"/tmp/\"+ data_id + \".csv\"\n",
        "  fh = open(csv_file, \"wb\")\n",
        "  fh.write(results.content)\n",
        "  fh.close()\n",
        "  dataframe = spark.read.csv(csv_file)\n",
        "  dataframe = dataframe.na.drop()\n",
        "  for item in dataframe.collect():\n",
        "      print(item)\n",
        "      db.race_data.insert_one(item.asDict())\n",
        "  print(\"Record count in  DB : \" + str(db.fire_dept.count_documents({})))\n",
        "\n",
        "load_race_data()"
      ],
      "metadata": {
        "id": "yDktuOhV0cRn"
      },
      "execution_count": null,
      "outputs": []
    }
  ]
}